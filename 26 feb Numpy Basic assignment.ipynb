{
 "cells": [
  {
   "cell_type": "code",
   "execution_count": null,
   "id": "a52a559f-85da-4774-ba7f-fda7b9fa6a8d",
   "metadata": {},
   "outputs": [],
   "source": [
    "Consider the below code to answer further questions:\n",
    "import numpy as np\n",
    "list_ = [ ‘1’ , ’2’ , ‘3’ , ‘4’ , ‘5’ ]\n",
    "array_list = np.array(object = list_)"
   ]
  },
  {
   "cell_type": "code",
   "execution_count": null,
   "id": "90d0d789-30ad-4144-9862-249755819fac",
   "metadata": {},
   "outputs": [],
   "source": [
    "Q1. Is there any difference in the data type of variables list_ and array_list? If there is then write a code\n",
    "to print the data types of both the variables."
   ]
  },
  {
   "cell_type": "code",
   "execution_count": null,
   "id": "c1571efb-70fb-4967-a662-d09eec9f9307",
   "metadata": {},
   "outputs": [],
   "source": [
    "Yes, there is a difference in the data types of the variables list_ and array_list. list_ is a Python list, and array_list is a NumPy array. You can check their data types using the type() function. Here's the code to print the data types of both variables:"
   ]
  },
  {
   "cell_type": "code",
   "execution_count": 1,
   "id": "782f4875-28e6-499c-9619-ec19cca2454e",
   "metadata": {},
   "outputs": [
    {
     "name": "stdout",
     "output_type": "stream",
     "text": [
      "Data type of list_:  <class 'list'>\n",
      "Data type of array_list:  <class 'numpy.ndarray'>\n"
     ]
    }
   ],
   "source": [
    "import numpy as np\n",
    "\n",
    "list_ = ['1', '2', '3', '4', '5']\n",
    "array_list = np.array(object=list_)\n",
    "\n",
    "# Print the data types\n",
    "print(\"Data type of list_: \", type(list_))\n",
    "print(\"Data type of array_list: \", type(array_list))\n"
   ]
  },
  {
   "cell_type": "code",
   "execution_count": null,
   "id": "e341f8da-55cc-4400-bfb6-ebd202837dd5",
   "metadata": {},
   "outputs": [],
   "source": [
    "Q2. Write a code to print the data type of each and every element of both the variables list_ and\n",
    "arra_list."
   ]
  },
  {
   "cell_type": "code",
   "execution_count": null,
   "id": "c43a2725-1383-44ca-bc8a-053db6d3e1f5",
   "metadata": {},
   "outputs": [],
   "source": [
    "To print the data type of each and every element of both the list_ and array_list variables, you can use a loop to iterate through the elements and apply the type() function to each element. Here's the code to do that:"
   ]
  },
  {
   "cell_type": "code",
   "execution_count": 2,
   "id": "e2701bb4-9002-4735-87c1-b8bfa9eb4a86",
   "metadata": {},
   "outputs": [
    {
     "name": "stdout",
     "output_type": "stream",
     "text": [
      "Data types of elements in list_:\n",
      "<class 'str'>\n",
      "<class 'str'>\n",
      "<class 'str'>\n",
      "<class 'str'>\n",
      "<class 'str'>\n",
      "\n",
      "Data types of elements in array_list:\n",
      "<class 'numpy.str_'>\n",
      "<class 'numpy.str_'>\n",
      "<class 'numpy.str_'>\n",
      "<class 'numpy.str_'>\n",
      "<class 'numpy.str_'>\n"
     ]
    }
   ],
   "source": [
    "import numpy as np\n",
    "\n",
    "list_ = ['1', '2', '3', '4', '5']\n",
    "array_list = np.array(object=list_)\n",
    "\n",
    "# Print the data type of each element in list_\n",
    "print(\"Data types of elements in list_:\")\n",
    "for element in list_:\n",
    "    print(type(element))\n",
    "\n",
    "# Print the data type of each element in array_list\n",
    "print(\"\\nData types of elements in array_list:\")\n",
    "for element in array_list:\n",
    "    print(type(element))\n"
   ]
  },
  {
   "cell_type": "code",
   "execution_count": null,
   "id": "77e04911-ae31-40a1-893d-90a11c8542f6",
   "metadata": {},
   "outputs": [],
   "source": [
    "In this code:\n",
    "\n",
    "We use a loop to iterate through each element in list_ and array_list.\n",
    "\n",
    "Inside the loop, we apply the type() function to each element to print its data type.\n",
    "\n",
    "When you run this code, it will display the data type of each element in both list_ and array_list.\n",
    "\n",
    "\n",
    "\n",
    "\n"
   ]
  },
  {
   "cell_type": "code",
   "execution_count": null,
   "id": "bcf46940-a420-4b3e-a87a-d8501ea20ce6",
   "metadata": {},
   "outputs": [],
   "source": [
    "Q3. Considering the following changes in the variable, array_list:\n",
    "array_list = np.array(object = list_, dtype = int)"
   ]
  },
  {
   "cell_type": "code",
   "execution_count": null,
   "id": "18114fd4-dec9-428f-a8c5-daae9912a0e6",
   "metadata": {},
   "outputs": [],
   "source": [
    "If you create the array_list with the specified data type (dtype=int), it will force all elements in the array to be of integer type. Here's the code with the updated array_list"
   ]
  },
  {
   "cell_type": "code",
   "execution_count": 3,
   "id": "7dae4661-0cb3-4822-aa23-9b17f4d45837",
   "metadata": {},
   "outputs": [
    {
     "name": "stdout",
     "output_type": "stream",
     "text": [
      "Data type of array_list:  <class 'numpy.ndarray'>\n",
      "Data types of elements in array_list:\n",
      "<class 'numpy.int64'>\n",
      "<class 'numpy.int64'>\n",
      "<class 'numpy.int64'>\n",
      "<class 'numpy.int64'>\n",
      "<class 'numpy.int64'>\n"
     ]
    }
   ],
   "source": [
    "import numpy as np\n",
    "\n",
    "list_ = ['1', '2', '3', '4', '5']\n",
    "array_list = np.array(object=list_, dtype=int)\n",
    "\n",
    "# Print the data type of the array_list itself\n",
    "print(\"Data type of array_list: \", type(array_list))\n",
    "\n",
    "# Print the data type of each element in array_list\n",
    "print(\"Data types of elements in array_list:\")\n",
    "for element in array_list:\n",
    "    print(type(element))\n"
   ]
  },
  {
   "cell_type": "code",
   "execution_count": null,
   "id": "af1cedd2-0483-426b-a53f-883410be1986",
   "metadata": {},
   "outputs": [],
   "source": [
    "In this code, we use dtype=int when creating array_list. This will explicitly convert the elements from strings to integers, and the array_list will contain integer data types.\n",
    "\n",
    "When you run this code, you will see that the data type of array_list is still numpy.ndarray, but the data type of each element in array_list will be int"
   ]
  },
  {
   "cell_type": "code",
   "execution_count": null,
   "id": "bb1b21c3-c46e-4aaf-b169-d8a05af46953",
   "metadata": {},
   "outputs": [],
   "source": [
    "Will there be any difference in the data type of the elements present in both the variables, list_ and\n",
    "arra_list? If so then print the data types of each and every element present in both the variables, list_\n",
    "and arra_list.\n",
    "Consider the below code to answer further questions:\n",
    "import numpy as np\n",
    "num_list = [ [ 1 , 2 , 3 ] , [ 4 , 5 , 6 ] ]\n",
    "num_array = np.array(object = num_list)"
   ]
  },
  {
   "cell_type": "code",
   "execution_count": null,
   "id": "1f97df27-f9ab-481b-8c73-9fa7298b1b65",
   "metadata": {},
   "outputs": [],
   "source": [
    "In the code you provided, where num_list is a list containing lists, and num_array is a NumPy array created from num_list, there will be a difference in the data types of the elements present in num_list and num_array. Specifically, the elements in num_list will be of the list data type, while the elements in num_array will be of the numpy.ndarray data type.\n",
    "\n",
    "Here's the code to print the data types of each and every element present in both num_list and num_array"
   ]
  },
  {
   "cell_type": "code",
   "execution_count": 4,
   "id": "2eaf1d27-d371-47b0-a2d3-e9e78f6bd3b3",
   "metadata": {},
   "outputs": [
    {
     "name": "stdout",
     "output_type": "stream",
     "text": [
      "Data types of elements in num_list:\n",
      "<class 'int'>\n",
      "<class 'int'>\n",
      "<class 'int'>\n",
      "<class 'int'>\n",
      "<class 'int'>\n",
      "<class 'int'>\n",
      "\n",
      "Data types of elements in num_array:\n",
      "<class 'numpy.int64'>\n",
      "<class 'numpy.int64'>\n",
      "<class 'numpy.int64'>\n",
      "<class 'numpy.int64'>\n",
      "<class 'numpy.int64'>\n",
      "<class 'numpy.int64'>\n"
     ]
    }
   ],
   "source": [
    "import numpy as np\n",
    "\n",
    "num_list = [[1, 2, 3], [4, 5, 6]]\n",
    "num_array = np.array(object=num_list)\n",
    "\n",
    "# Print the data types of elements in num_list\n",
    "print(\"Data types of elements in num_list:\")\n",
    "for sublist in num_list:\n",
    "    for element in sublist:\n",
    "        print(type(element))\n",
    "\n",
    "# Print the data types of elements in num_array\n",
    "print(\"\\nData types of elements in num_array:\")\n",
    "for element in num_array.flat:\n",
    "    print(type(element))\n"
   ]
  },
  {
   "cell_type": "code",
   "execution_count": null,
   "id": "033f6739-63bf-4bca-a48a-386a8a99b3a0",
   "metadata": {},
   "outputs": [],
   "source": [
    "In this code:\n",
    "\n",
    "We use nested loops to iterate through each element in num_list and num_array.\n",
    "\n",
    "Inside the loops, we apply the type() function to each element to print its data type.\n",
    "\n",
    "When you run this code, it will display the data types of each element in both num_list and num_array. You will observe that the elements in num_list are of type int because they are standard Python lists, while the elements in num_array are of type numpy.int64 because they are part of a NumPy array.\n",
    "\n",
    "\n",
    "\n",
    "\n"
   ]
  },
  {
   "cell_type": "code",
   "execution_count": null,
   "id": "f0e78a97-9a6b-4b9b-a54f-e11a5ae3e547",
   "metadata": {},
   "outputs": [],
   "source": [
    "Q4. Write a code to find the following characteristics of variable, num_array:\n",
    "(i) shape\n",
    "(ii) size"
   ]
  },
  {
   "cell_type": "code",
   "execution_count": null,
   "id": "cfe69a28-e129-4070-80a9-c99c1599da17",
   "metadata": {},
   "outputs": [],
   "source": [
    "You can find the shape and size of the NumPy array num_array using the .shape and .size attributes, respectively. Here's the code to do that:"
   ]
  },
  {
   "cell_type": "code",
   "execution_count": 5,
   "id": "75af423f-d3d1-4828-b36a-58e555e9637f",
   "metadata": {},
   "outputs": [
    {
     "name": "stdout",
     "output_type": "stream",
     "text": [
      "Shape of num_array: (2, 3)\n",
      "Size of num_array: 6\n"
     ]
    }
   ],
   "source": [
    "import numpy as np\n",
    "\n",
    "num_list = [[1, 2, 3], [4, 5, 6]]\n",
    "num_array = np.array(object=num_list)\n",
    "\n",
    "# Find the shape of num_array\n",
    "shape = num_array.shape\n",
    "\n",
    "# Find the size of num_array\n",
    "size = num_array.size\n",
    "\n",
    "# Print the shape and size\n",
    "print(\"Shape of num_array:\", shape)\n",
    "print(\"Size of num_array:\", size)\n"
   ]
  },
  {
   "cell_type": "code",
   "execution_count": null,
   "id": "c68fdc00-4b76-4720-a159-b4691fe47921",
   "metadata": {},
   "outputs": [],
   "source": [
    "In this code:\n",
    "\n",
    "We use the .shape attribute to find the shape (dimensions) of the NumPy array num_array.\n",
    "\n",
    "We use the .size attribute to find the size (total number of elements) of the NumPy array num_array.\n",
    "\n",
    "When you run this code, it will print the shape and size of the num_array"
   ]
  },
  {
   "cell_type": "code",
   "execution_count": null,
   "id": "d7862119-860e-47c1-91f4-06a0175eb371",
   "metadata": {},
   "outputs": [],
   "source": [
    "creation function.\n",
    "[Hint: The size of the array will be 9 and the shape will be (3,3).]"
   ]
  },
  {
   "cell_type": "code",
   "execution_count": null,
   "id": "f6f1cf39-90f8-4761-b5e4-c7a9c050c3db",
   "metadata": {},
   "outputs": [],
   "source": [
    "If you want to create a NumPy array with a specific size (9) and shape (3x3), you can use the numpy.zeros() function or numpy.empty() function to initialize an array with zeros or empty values, respectively, and then reshape it to the desired shape. Here's how you can do it:\n",
    "\n",
    "Using numpy.zeros():"
   ]
  },
  {
   "cell_type": "code",
   "execution_count": 6,
   "id": "18a8302b-1532-4c56-a247-9ec14fe81984",
   "metadata": {},
   "outputs": [
    {
     "name": "stdout",
     "output_type": "stream",
     "text": [
      "NumPy array with shape (3, 3):\n",
      "[[0. 0. 0.]\n",
      " [0. 0. 0.]\n",
      " [0. 0. 0.]]\n"
     ]
    }
   ],
   "source": [
    "import numpy as np\n",
    "\n",
    "# Create an array of zeros with size 9\n",
    "zero_array = np.zeros(9)\n",
    "\n",
    "# Reshape the array to shape (3, 3)\n",
    "num_array = zero_array.reshape(3, 3)\n",
    "\n",
    "# Print the resulting array\n",
    "print(\"NumPy array with shape (3, 3):\")\n",
    "print(num_array)\n"
   ]
  },
  {
   "cell_type": "code",
   "execution_count": null,
   "id": "b9a206a9-7f9b-4596-9775-9d57b11dc1cb",
   "metadata": {},
   "outputs": [],
   "source": [
    "Using numpy.empty():"
   ]
  },
  {
   "cell_type": "code",
   "execution_count": 7,
   "id": "edbdf05a-b6b9-4eef-b12e-058bd1565e4e",
   "metadata": {},
   "outputs": [
    {
     "name": "stdout",
     "output_type": "stream",
     "text": [
      "NumPy array with shape (3, 3):\n",
      "[[0. 0. 0.]\n",
      " [0. 0. 0.]\n",
      " [0. 0. 0.]]\n"
     ]
    }
   ],
   "source": [
    "import numpy as np\n",
    "\n",
    "# Create an array of empty values with size 9\n",
    "empty_array = np.empty(9)\n",
    "\n",
    "# Reshape the array to shape (3, 3)\n",
    "num_array = empty_array.reshape(3, 3)\n",
    "\n",
    "# Print the resulting array\n",
    "print(\"NumPy array with shape (3, 3):\")\n",
    "print(num_array)\n"
   ]
  },
  {
   "cell_type": "code",
   "execution_count": null,
   "id": "0576733c-104b-4c43-b9f7-292a3c1591d9",
   "metadata": {},
   "outputs": [],
   "source": []
  }
 ],
 "metadata": {
  "kernelspec": {
   "display_name": "Python 3 (ipykernel)",
   "language": "python",
   "name": "python3"
  },
  "language_info": {
   "codemirror_mode": {
    "name": "ipython",
    "version": 3
   },
   "file_extension": ".py",
   "mimetype": "text/x-python",
   "name": "python",
   "nbconvert_exporter": "python",
   "pygments_lexer": "ipython3",
   "version": "3.10.6"
  }
 },
 "nbformat": 4,
 "nbformat_minor": 5
}
